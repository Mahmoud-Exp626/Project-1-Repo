{
 "cells": [
  {
   "cell_type": "code",
   "execution_count": null,
   "metadata": {},
   "outputs": [],
   "source": [
    "import pandas as pd\n",
    "from pathlib import Path\n",
    "import matplotlib.pyplot as plt\n",
    "\n",
    "file = Path(\"Resources/DataForTable2.1.csv\")\n",
    "raw_df = pd.read_csv(file)\n",
    "\n",
    "average_df = raw_df.groupby('Country name').mean().reset_index()\n",
    "average_df.head()"
   ]
  }
 ],
 "metadata": {
  "language_info": {
   "name": "python"
  }
 },
 "nbformat": 4,
 "nbformat_minor": 2
}
